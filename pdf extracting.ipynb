{
 "cells": [
  {
   "cell_type": "code",
   "execution_count": 14,
   "id": "2a3e6177-52c4-4369-8d28-aa71f0fe1712",
   "metadata": {},
   "outputs": [],
   "source": [
    "import PyPDF2 as pdf\n",
    "#with pypdf2 we can open and read a pdf file\n",
    "from PyPDF2 import PdfReader,PdfWriter"
   ]
  },
  {
   "cell_type": "code",
   "execution_count": 15,
   "id": "a57fdbc9-16c8-405c-b014-230d378203ff",
   "metadata": {},
   "outputs": [
    {
     "data": {
      "text/plain": [
       "['DocumentInformation',\n",
       " 'PageObject',\n",
       " 'PageRange',\n",
       " 'PaperSize',\n",
       " 'PasswordType',\n",
       " 'PdfFileMerger',\n",
       " 'PdfFileReader',\n",
       " 'PdfFileWriter',\n",
       " 'PdfMerger',\n",
       " 'PdfReader',\n",
       " 'PdfWriter',\n",
       " 'Transformation',\n",
       " '__all__',\n",
       " '__builtins__',\n",
       " '__cached__',\n",
       " '__doc__',\n",
       " '__file__',\n",
       " '__loader__',\n",
       " '__name__',\n",
       " '__package__',\n",
       " '__path__',\n",
       " '__spec__',\n",
       " '__version__',\n",
       " '__warningregistry__',\n",
       " '_cmap',\n",
       " '_codecs',\n",
       " '_encryption',\n",
       " '_merger',\n",
       " '_page',\n",
       " '_protocols',\n",
       " '_reader',\n",
       " '_security',\n",
       " '_utils',\n",
       " '_version',\n",
       " '_writer',\n",
       " 'constants',\n",
       " 'errors',\n",
       " 'filters',\n",
       " 'generic',\n",
       " 'pagerange',\n",
       " 'papersizes',\n",
       " 'parse_filename_page_ranges',\n",
       " 'types',\n",
       " 'warnings',\n",
       " 'xmp']"
      ]
     },
     "execution_count": 15,
     "metadata": {},
     "output_type": "execute_result"
    }
   ],
   "source": [
    "dir(pdf) #methods"
   ]
  },
  {
   "cell_type": "code",
   "execution_count": 17,
   "id": "ea69bbba-27d8-4340-a537-d06d021e9f7c",
   "metadata": {},
   "outputs": [],
   "source": [
    "#open PDF file, reading the pdf file\n",
    "file = open(\"C:\\\\Users\\\\Local User\\\\Pictures\\\\assignment seu\\\\assignment of db(even).pdf\",\"rb\")\n",
    "reader = PdfReader(file)"
   ]
  },
  {
   "cell_type": "code",
   "execution_count": 18,
   "id": "2a1a8deb-1550-4020-842e-f39b1233bf80",
   "metadata": {},
   "outputs": [],
   "source": [
    "#get the title of the pdf doc\n",
    "info = reader.metadata"
   ]
  },
  {
   "cell_type": "code",
   "execution_count": 19,
   "id": "8d62abeb-9980-403b-9726-967d972f1f53",
   "metadata": {},
   "outputs": [
    {
     "data": {
      "text/plain": [
       "{'/Author': 'Microsoft account',\n",
       " '/Creator': 'Microsoft® Word 2013',\n",
       " '/CreationDate': \"D:20230525173323+06'00'\",\n",
       " '/ModDate': \"D:20230525173323+06'00'\",\n",
       " '/Producer': 'Microsoft® Word 2013'}"
      ]
     },
     "execution_count": 19,
     "metadata": {},
     "output_type": "execute_result"
    }
   ],
   "source": [
    "info.title\n",
    "info"
   ]
  },
  {
   "cell_type": "code",
   "execution_count": 20,
   "id": "856ad156-cda3-4a8d-88ee-16cef8018f52",
   "metadata": {},
   "outputs": [
    {
     "data": {
      "text/plain": [
       "'Microsoft account'"
      ]
     },
     "execution_count": 20,
     "metadata": {},
     "output_type": "execute_result"
    }
   ],
   "source": [
    "#Author\n",
    "info.author"
   ]
  },
  {
   "cell_type": "code",
   "execution_count": 21,
   "id": "7e1fcd46-e947-4893-95e2-9814ac42cf4b",
   "metadata": {},
   "outputs": [
    {
     "data": {
      "text/plain": [
       "18"
      ]
     },
     "execution_count": 21,
     "metadata": {},
     "output_type": "execute_result"
    }
   ],
   "source": [
    "#getting number of pages\n",
    "len(reader.pages)"
   ]
  },
  {
   "cell_type": "code",
   "execution_count": 22,
   "id": "b62c0bf2-86ba-4c91-9254-78fd754196c0",
   "metadata": {},
   "outputs": [
    {
     "data": {
      "text/plain": [
       "'4. Large data: TPS can process a large amount of data. There are thousands of transactions \\ndone by the TPS on daily basis.  \\n5. Use anywhere: TPS can be used anywhere you want. You can use it in organizations, \\nstores, banks, schools etc. Also, customers can do transactions  online from anywhere.  \\n6. Error recovery: If some data is lost in the transaction, then it can be retrieved by the TPS. \\nThe system also self -solves issues and errors are detected and removed by the system \\neasily.  \\n7. Easy to use: Staff can easily use the TP S software and there is little or no training required \\nto use the TPS software. It is also user friendly.  \\nDisa dvantages:    \\n1. Setup cost:  The initial setup cost of TPS is high. You have to buy a license for TPS \\nsoftware. Also, you need to buy computers, camer as and price detecting devices.  \\n2. Incompatible:  Sometimes your software and hardware have compatibility problems. \\nSome hardware has drivers problems.  \\n3. Overload problem:  Sometimes there occurs a high number of transactions on the \\nTPS so it slows down the syste m or it stops working.  \\n4. High internet:  Users need to have a high internet connection to use the TPS.  \\n5. Standard format:  TPS lacks a standard format.  \\n \\nTransaction state: States through which a transaction goes during its lifetime. These are \\nthe states which te ll about the current state of the Transaction and also tell how we will \\nfurther do the processing in the transactions. These states govern the rules which decide \\nthe fate of the transaction whether it will commit or abort.  \\n \\nDiagram :  \\n \\n \\n                                                                                                                                                                  Page-02                                                       \\n'"
      ]
     },
     "execution_count": 22,
     "metadata": {},
     "output_type": "execute_result"
    }
   ],
   "source": [
    "#extracting specefic the texts from pdf\n",
    "reader.pages[3].extract_text()"
   ]
  },
  {
   "cell_type": "code",
   "execution_count": 23,
   "id": "b8b3f8de-6b4c-45ab-9d47-5607cb50de85",
   "metadata": {},
   "outputs": [],
   "source": [
    "#a function to get meta data\n",
    "def get_pdf_metadata(pdf_path):\n",
    "    with open(pdf_path,\"rb\") as f:\n",
    "        reader = PdfReader(f)\n",
    "        info = reader.metadata\n",
    "    return info    "
   ]
  },
  {
   "cell_type": "code",
   "execution_count": 24,
   "id": "33fb5d2e-5fad-4614-9052-339cb109c8ce",
   "metadata": {},
   "outputs": [
    {
     "data": {
      "text/plain": [
       "{'/Author': 'Microsoft account',\n",
       " '/Creator': 'Microsoft® Word 2013',\n",
       " '/CreationDate': \"D:20230525173323+06'00'\",\n",
       " '/ModDate': \"D:20230525173323+06'00'\",\n",
       " '/Producer': 'Microsoft® Word 2013'}"
      ]
     },
     "execution_count": 24,
     "metadata": {},
     "output_type": "execute_result"
    }
   ],
   "source": [
    "get_pdf_metadata(\"C:\\\\Users\\\\Local User\\\\Pictures\\\\assignment seu\\\\assignment of db(even).pdf\")"
   ]
  },
  {
   "cell_type": "code",
   "execution_count": 25,
   "id": "7e72c034-e79f-4d53-91cd-32be5af067be",
   "metadata": {},
   "outputs": [],
   "source": [
    "#function to extract all text from pdf\n",
    "def extract_text_from_pdf(pdf_path):\n",
    "    with open(pdf_path,\"rb\") as f: # Open the PDF file in binary read mode\n",
    "        reader = PdfReader(f) # Create a PdfReader object to read the PDF file\n",
    "        results = [] # Initialize an empty list to store the text extracted from each page\n",
    "        for i in range(0,len(reader.pages)): # Iterate over each page in the PDF (len(reader.pages) gives the number of pages)\n",
    "            selected_page = reader.pages[i] # Select the page at index i\n",
    "            text = selected_page.extract_text()  # Extract text from the selected page\n",
    "            results.append(text) # Append the extracted text to the results list\n",
    "            return ''.join(results) # Join the list of strings into a single string and return it"
   ]
  },
  {
   "cell_type": "code",
   "execution_count": 26,
   "id": "7b85aea5-413e-4bd4-9ca6-38a45d7323aa",
   "metadata": {},
   "outputs": [
    {
     "data": {
      "text/plain": [
       "'        \\n \\n \\n \\n \\n \\n        Submitted By,  \\n     Sheikh Md. Salman Farsi  – 2021100000002  \\n       Mahbub Hasan Riday  - 2017000000158  \\n       Department: Computer Science & Engineering (CSE)  \\n       Course:  Database Design  \\n       Course Code: CSE 383.2, 383.1     \\n                                                 \\n                   \\n \\n \\n \\n                                        Submitted To , \\n                                              Name:  Mr. Md. Mijanur Rahman  \\n                                              Designation: Assistan t Professor  \\n                                              Dept. Of Computer Science & Engineering, SEU  \\n   \\n  \\n \\n \\n'"
      ]
     },
     "execution_count": 26,
     "metadata": {},
     "output_type": "execute_result"
    }
   ],
   "source": [
    "extract_text_from_pdf(\"C:\\\\Users\\\\Local User\\\\Pictures\\\\assignment seu\\\\assignment of db(even).pdf\")"
   ]
  },
  {
   "cell_type": "code",
   "execution_count": 27,
   "id": "32bb1601-4db9-43f9-92c8-c320731db98d",
   "metadata": {},
   "outputs": [],
   "source": [
    "#how to split pdf\n",
    "#func to split pdf into multiple pdf\n",
    "import os\n",
    "def split_pdf(pdf_path):\n",
    "    with open(pdf_path,\"rb\") as f: # Open the PDF file in binary read mode\n",
    "        reader = PdfReader(f) # Create a PdfReader object to read the PDF file\n",
    "        #get all pages\n",
    "        for page_num in range(0, len(reader.pages)): #loop through pages\n",
    "            selected_page = reader.pages[page_num] # Select the current page by index\n",
    "            #writer to write\n",
    "            writer = PdfWriter() # Create a PdfWriter object to write the selected page to a new PDF\n",
    "            writer.add_page(selected_page) #add/embedding of the page\n",
    "            filename = os.path.splitext(pdf_path)[0] # Get the base filename without extension\n",
    "            output_filename = f\"{filename}_{page_num}.pdf\" # Create a new filename for each page\n",
    "            #save and compile to pdf\n",
    "            with open(output_filename,\"wb\") as out: # Open a new file in binary write mode\n",
    "                writer.write(out) # Write the current page to the new PDF file\n",
    "\n",
    "            print(\"created a pdf:{}\".format(output_filename)) # Print a confirmation message with the output filename"
   ]
  },
  {
   "cell_type": "code",
   "execution_count": 59,
   "id": "467537e3-9361-421d-94a9-49f7ba144946",
   "metadata": {},
   "outputs": [
    {
     "name": "stdout",
     "output_type": "stream",
     "text": [
      "created a pdf:C:\\Users\\Local User\\Pictures\\assignment seu\\assignment of db(even)_0.pdf\n",
      "created a pdf:C:\\Users\\Local User\\Pictures\\assignment seu\\assignment of db(even)_1.pdf\n",
      "created a pdf:C:\\Users\\Local User\\Pictures\\assignment seu\\assignment of db(even)_2.pdf\n",
      "created a pdf:C:\\Users\\Local User\\Pictures\\assignment seu\\assignment of db(even)_3.pdf\n",
      "created a pdf:C:\\Users\\Local User\\Pictures\\assignment seu\\assignment of db(even)_4.pdf\n",
      "created a pdf:C:\\Users\\Local User\\Pictures\\assignment seu\\assignment of db(even)_5.pdf\n",
      "created a pdf:C:\\Users\\Local User\\Pictures\\assignment seu\\assignment of db(even)_6.pdf\n",
      "created a pdf:C:\\Users\\Local User\\Pictures\\assignment seu\\assignment of db(even)_7.pdf\n",
      "created a pdf:C:\\Users\\Local User\\Pictures\\assignment seu\\assignment of db(even)_8.pdf\n",
      "created a pdf:C:\\Users\\Local User\\Pictures\\assignment seu\\assignment of db(even)_9.pdf\n",
      "created a pdf:C:\\Users\\Local User\\Pictures\\assignment seu\\assignment of db(even)_10.pdf\n",
      "created a pdf:C:\\Users\\Local User\\Pictures\\assignment seu\\assignment of db(even)_11.pdf\n",
      "created a pdf:C:\\Users\\Local User\\Pictures\\assignment seu\\assignment of db(even)_12.pdf\n",
      "created a pdf:C:\\Users\\Local User\\Pictures\\assignment seu\\assignment of db(even)_13.pdf\n",
      "created a pdf:C:\\Users\\Local User\\Pictures\\assignment seu\\assignment of db(even)_14.pdf\n",
      "created a pdf:C:\\Users\\Local User\\Pictures\\assignment seu\\assignment of db(even)_15.pdf\n",
      "created a pdf:C:\\Users\\Local User\\Pictures\\assignment seu\\assignment of db(even)_16.pdf\n",
      "created a pdf:C:\\Users\\Local User\\Pictures\\assignment seu\\assignment of db(even)_17.pdf\n"
     ]
    }
   ],
   "source": [
    "split_pdf(\"C:\\\\Users\\\\Local User\\\\Pictures\\\\assignment seu\\\\assignment of db(even).pdf\")"
   ]
  },
  {
   "cell_type": "code",
   "execution_count": 62,
   "id": "8a8eefdb-d4cf-4035-bf2f-637be8839eea",
   "metadata": {},
   "outputs": [],
   "source": [
    "#split pdf upto a page\n",
    "def get_pdf_upto(pdf_path,start_page: int = 0, stop_page: int = 0, output_path=\"output\"):\n",
    "    with open(pdf_path,\"rb\") as f:\n",
    "        reader = PdfReader(f)\n",
    "        writer = PdfWriter()\n",
    "        for page_num in range(start_page,stop_page):\n",
    "            selected_page = reader.pages[page_num]\n",
    "            writer.add_page(selected_page) #prev:: addpage()\n",
    "            filename = os.path.splitext(pdf_path)[0]\n",
    "            output_filename = f\"{filename}_from_{start_page}_to_{stop_page}.pdf\"\n",
    "        with open(output_filename, \"wb\") as out:\n",
    "            writer.write(out)"
   ]
  },
  {
   "cell_type": "code",
   "execution_count": 65,
   "id": "ff52ead6-ff4c-41b3-9574-ee5116db83f2",
   "metadata": {},
   "outputs": [],
   "source": [
    "get_pdf_upto(\"C:\\\\Users\\\\Local User\\\\Pictures\\\\assignment seu\\\\assignment of db(even).pdf\",1,6)"
   ]
  },
  {
   "cell_type": "code",
   "execution_count": 87,
   "id": "bdf05d68-9283-458a-af09-cc5b43e5ba65",
   "metadata": {},
   "outputs": [],
   "source": [
    "#how to get a last page from the pdf\n",
    "def get_last_pdf_page(pdf_path):\n",
    "     with open(pdf_path,\"rb\") as f:\n",
    "        reader = PdfReader(f)\n",
    "        writer = PdfWriter()\n",
    "        selected_page = reader.pages[len(reader.pages)-1]\n",
    "        writer.add_page(selected_page)\n",
    "        filename = os.path.splitext(pdf_path)[0]\n",
    "        output_filename = f\"{filename}_last_page.pdf\"\n",
    "        with open(output_filename, \"wb\") as out:\n",
    "            writer.write(out)\n",
    "        print(\"created last page\") \n",
    "    "
   ]
  },
  {
   "cell_type": "code",
   "execution_count": 88,
   "id": "ef9ed590-15ef-44b9-a859-05966b51637b",
   "metadata": {},
   "outputs": [
    {
     "name": "stdout",
     "output_type": "stream",
     "text": [
      "created last page\n"
     ]
    }
   ],
   "source": [
    "get_last_pdf_page(\"C:\\\\Users\\\\Local User\\\\Pictures\\\\assignment seu\\\\assignment of db(even).pdf\")"
   ]
  },
  {
   "cell_type": "code",
   "execution_count": 74,
   "id": "ca322805-7323-430e-bfcf-98cfe151bb97",
   "metadata": {},
   "outputs": [],
   "source": [
    "#merging pdfs\n",
    "def fetch_all_pdf_files(parent_folder: str):\n",
    "    target_files = []\n",
    "    for path, subdirs, files in os.walk(parent_folder):\n",
    "        for name in files:\n",
    "            if name.endswith(\".pdf\"):\n",
    "                target_files.append(os.path.join(path, name))\n",
    "    return target_files      "
   ]
  },
  {
   "cell_type": "code",
   "execution_count": 89,
   "id": "80a87dc2-a679-4940-81ff-de7aa39e9c24",
   "metadata": {},
   "outputs": [
    {
     "data": {
      "text/plain": [
       "['C:\\\\Users\\\\Local User\\\\Pictures\\\\merge_pdf\\\\example1.pdf',\n",
       " 'C:\\\\Users\\\\Local User\\\\Pictures\\\\merge_pdf\\\\example2.pdf']"
      ]
     },
     "execution_count": 89,
     "metadata": {},
     "output_type": "execute_result"
    }
   ],
   "source": [
    "fetch_all_pdf_files(\"C:\\\\Users\\\\Local User\\\\Pictures\\\\merge_pdf\")"
   ]
  },
  {
   "cell_type": "code",
   "execution_count": 77,
   "id": "bcc46d3e-20ac-4211-8c95-61b6fdba8b91",
   "metadata": {},
   "outputs": [],
   "source": [
    "from PyPDF2 import PdfMerger"
   ]
  },
  {
   "cell_type": "code",
   "execution_count": 78,
   "id": "d08d5e36-c769-4ca1-8e04-8e539b24ef13",
   "metadata": {},
   "outputs": [],
   "source": [
    "def merge_pdf(list_of_pdfs,output_filename=\"final_merged_file.pdf\"):\n",
    "    merger = PdfMerger()\n",
    "    with open(output_filename,\"wb\") as f:\n",
    "        for file in list_of_pdfs:\n",
    "            merger.append(file)\n",
    "        merger.write(f)"
   ]
  },
  {
   "cell_type": "code",
   "execution_count": 79,
   "id": "9df76c94-3137-433c-a44c-2b70a1ce0840",
   "metadata": {},
   "outputs": [],
   "source": [
    "pdf_list = fetch_all_pdf_files(\"./merge_pdf\")"
   ]
  },
  {
   "cell_type": "code",
   "execution_count": 80,
   "id": "9ae64d6e-79b6-46ae-8a93-9ed4032270b2",
   "metadata": {},
   "outputs": [],
   "source": [
    "merge_pdf(pdf_list)"
   ]
  },
  {
   "cell_type": "code",
   "execution_count": 81,
   "id": "fe197727-088c-45bb-b6fa-00eb4cc03e09",
   "metadata": {},
   "outputs": [],
   "source": [
    "#rotate pdf\n",
    "def rotate_pdf(pdf_path,page_num:int, rotation: int = 90):\n",
    "    with open(pdf_path,\"rb\") as f:\n",
    "        reader = PdfReader(f)\n",
    "        writer = PdfWriter()\n",
    "        writer.add_page(reader.pages[page_num])\n",
    "        # rotate\n",
    "        writer.pages[page_num].rotate(rotation)\n",
    "        filename = os.path.splitext(pdf_path)[0]\n",
    "        output_filename = f\"{filename}_{rotation}_rotated_page.pdf\"\n",
    "        with open(output_filename, \"wb\") as out:\n",
    "            writer.write(out)\n",
    "        print(\"rotated page\")"
   ]
  },
  {
   "cell_type": "code",
   "execution_count": 82,
   "id": "cd868137-cb91-4bae-96fd-e55682aee55c",
   "metadata": {},
   "outputs": [
    {
     "name": "stdout",
     "output_type": "stream",
     "text": [
      "rotated page\n"
     ]
    }
   ],
   "source": [
    "rotate_pdf(\"C:\\\\Users\\\\Local User\\\\Pictures\\\\assignment seu\\\\assignment of db(even).pdf\",0,180)"
   ]
  },
  {
   "cell_type": "code",
   "execution_count": 83,
   "id": "35436a65-a7a0-4f5a-82ec-9b748c5722fb",
   "metadata": {},
   "outputs": [],
   "source": [
    "from PyPDF2 import PdfReader"
   ]
  },
  {
   "cell_type": "code",
   "execution_count": 84,
   "id": "b83b605a-6a66-4068-a806-312994912265",
   "metadata": {},
   "outputs": [],
   "source": [
    "#extract images from pdf\n",
    "def extract_images_from_pdf(pdf_path):\n",
    "    with open(pdf_path,\"rb\") as f:\n",
    "        reader = PdfReader(f)\n",
    "        for page_num in range(0,len(reader.pages)):\n",
    "            selected_page = reader.pages[page_num]\n",
    "            for img_file_obj in selected_page.images:\n",
    "                with open(img_file_obj.name, \"wb\") as out:\n",
    "                    out.write(img_file_obj.data)"
   ]
  },
  {
   "cell_type": "code",
   "execution_count": 85,
   "id": "31eb2d72-e2f6-4bd8-9f39-80913b796a7b",
   "metadata": {},
   "outputs": [],
   "source": [
    "extract_images_from_pdf(\"C:\\\\Users\\\\Local User\\\\Pictures\\\\assignment seu\\\\assignment of db(even).pdf\")"
   ]
  },
  {
   "cell_type": "code",
   "execution_count": 86,
   "id": "91dedb5f-785c-4d9b-863c-36ee704b62ad",
   "metadata": {},
   "outputs": [],
   "source": [
    "#convert img to pdf\n",
    "from PIL import Image\n",
    "def convert_img2pdf(image_file):\n",
    "    my_image = Image.open(image_file)\n",
    "    img = my_image.convert(\"RGB\")\n",
    "    filename = f\"{os.path.splitext(image_file)[0]}.pdf\"\n",
    "    img.save(filename)\n",
    "convert_img2pdf(\"C:\\\\Users\\\\Local User\\\\Desktop\\\\python_2308\\\\matplotlib 1st plot.png\")"
   ]
  },
  {
   "cell_type": "code",
   "execution_count": 1,
   "id": "af703399-9d1d-4998-9207-eee689fede42",
   "metadata": {},
   "outputs": [],
   "source": [
    "import tabula as tab"
   ]
  },
  {
   "cell_type": "code",
   "execution_count": 5,
   "id": "8b7147ba-caae-4fa3-b7c7-de971373d9c8",
   "metadata": {},
   "outputs": [],
   "source": [
    "pdf_path = (\"C:\\\\Users\\\\Local User\\\\Pictures\\\\assignment seu\\\\assignment of db(even).pdf\")"
   ]
  },
  {
   "cell_type": "code",
   "execution_count": 48,
   "id": "99549e80-7ab2-4f85-9a27-e1c6d407ccbd",
   "metadata": {},
   "outputs": [
    {
     "name": "stdout",
     "output_type": "stream",
     "text": [
      "3\n"
     ]
    }
   ],
   "source": [
    "#read the pdf and find the table numbers in the pdf\n",
    "df = tab.read_pdf(pdf_path,pages='7')\n",
    "print(len(df))"
   ]
  },
  {
   "cell_type": "code",
   "execution_count": 46,
   "id": "f3a90d13-5c5b-4529-a76e-137ada837de1",
   "metadata": {},
   "outputs": [
    {
     "name": "stdout",
     "output_type": "stream",
     "text": [
      "                                           Content Page Number\n",
      "0                              Transaction Concept     01 – 02\n",
      "1                               Transaction states     02 - 03\n",
      "2                                  Serializability     04 - 05\n",
      "3  View Serializability, Conflict\\rSerializability     05 – 07\n",
      "4                                   Recoverability     07 - 08\n",
      "5                                      RAID levels     09 – 12\n",
      "6                               File Organizations     12 - 16\n"
     ]
    }
   ],
   "source": [
    "print(df[0]) #extract the table"
   ]
  },
  {
   "cell_type": "code",
   "execution_count": 47,
   "id": "cf4f8e0d-c316-45bc-9709-9f57f79662ac",
   "metadata": {},
   "outputs": [],
   "source": [
    "#download the first table with your desire extension\n",
    "#1st method\n",
    "df[0].to_csv(\"fisrt_table.csv\")"
   ]
  },
  {
   "cell_type": "code",
   "execution_count": 51,
   "id": "97b394d8-77c2-4801-b0df-4f158b170b3e",
   "metadata": {},
   "outputs": [],
   "source": [
    "#extract multiple table from a page of pdf\n",
    "for i in range(len(df)):\n",
    "    df[i].to_csv(f\"page_7_table{i}.csv\")"
   ]
  },
  {
   "cell_type": "code",
   "execution_count": 52,
   "id": "0800e417-a71a-47f7-8db6-e602fea3190d",
   "metadata": {},
   "outputs": [
    {
     "name": "stderr",
     "output_type": "stream",
     "text": [
      "Got stderr: Jul 31, 2024 9:25:30 PM org.apache.fontbox.ttf.CmapSubtable processSubtype14\n",
      "WARNING: Format 14 cmap table is not supported and will be ignored\n",
      "Jul 31, 2024 9:25:30 PM org.apache.fontbox.ttf.CmapSubtable processSubtype14\n",
      "WARNING: Format 14 cmap table is not supported and will be ignored\n",
      "Jul 31, 2024 9:25:31 PM org.apache.fontbox.ttf.CmapSubtable processSubtype14\n",
      "WARNING: Format 14 cmap table is not supported and will be ignored\n",
      "\n"
     ]
    }
   ],
   "source": [
    "#extract all tables from pdf\n",
    "df = tab.read_pdf(pdf_path,pages='all')\n",
    "for i in range(len(df)):\n",
    "    df[i].to_csv(f\"all_table{i}.csv\")"
   ]
  },
  {
   "cell_type": "code",
   "execution_count": null,
   "id": "3abe9d81-95ef-456d-9755-d5af66fb2f90",
   "metadata": {},
   "outputs": [],
   "source": []
  }
 ],
 "metadata": {
  "kernelspec": {
   "display_name": "ML-KERNEL",
   "language": "python",
   "name": "ml-kernel"
  },
  "language_info": {
   "codemirror_mode": {
    "name": "ipython",
    "version": 3
   },
   "file_extension": ".py",
   "mimetype": "text/x-python",
   "name": "python",
   "nbconvert_exporter": "python",
   "pygments_lexer": "ipython3",
   "version": "3.12.4"
  }
 },
 "nbformat": 4,
 "nbformat_minor": 5
}
